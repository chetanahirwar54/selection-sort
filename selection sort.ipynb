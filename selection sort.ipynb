{
 "cells": [
  {
   "cell_type": "markdown",
   "metadata": {},
   "source": [
    "# Selection sort"
   ]
  },
  {
   "cell_type": "code",
   "execution_count": 8,
   "metadata": {},
   "outputs": [],
   "source": [
    "def selection_sort(l):\n",
    "    suffixst = 0 # right half of the list is not sorted yet, so this indicates the index of the unsorted list\n",
    "    while suffixst != len(l):\n",
    "        print('selection sort:', str(l))\n",
    "        for i in range(suffixst, len(l)):\n",
    "            if l[i] < l[suffixst]:\n",
    "                l[suffixst], l[i] = l[i], l[suffixst]\n",
    "        suffixst += 1"
   ]
  },
  {
   "cell_type": "code",
   "execution_count": 9,
   "metadata": {},
   "outputs": [
    {
     "name": "stdout",
     "output_type": "stream",
     "text": [
      "selection sort: [43, 65, 12, 56, 657, 122, 78, 1, 7]\n",
      "selection sort: [1, 65, 43, 56, 657, 122, 78, 12, 7]\n",
      "selection sort: [1, 7, 65, 56, 657, 122, 78, 43, 12]\n",
      "selection sort: [1, 7, 12, 65, 657, 122, 78, 56, 43]\n",
      "selection sort: [1, 7, 12, 43, 657, 122, 78, 65, 56]\n",
      "selection sort: [1, 7, 12, 43, 56, 657, 122, 78, 65]\n",
      "selection sort: [1, 7, 12, 43, 56, 65, 657, 122, 78]\n",
      "selection sort: [1, 7, 12, 43, 56, 65, 78, 657, 122]\n",
      "selection sort: [1, 7, 12, 43, 56, 65, 78, 122, 657]\n"
     ]
    },
    {
     "data": {
      "text/plain": [
       "[1, 7, 12, 43, 56, 65, 78, 122, 657]"
      ]
     },
     "execution_count": 9,
     "metadata": {},
     "output_type": "execute_result"
    }
   ],
   "source": [
    "l = [43,65,12,56,657, 122, 78, 1, 7]\n",
    "selection_sort(l)\n",
    "l"
   ]
  },
  {
   "cell_type": "code",
   "execution_count": null,
   "metadata": {},
   "outputs": [],
   "source": []
  }
 ],
 "metadata": {
  "kernelspec": {
   "display_name": "Python 3",
   "language": "python",
   "name": "python3"
  },
  "language_info": {
   "codemirror_mode": {
    "name": "ipython",
    "version": 3
   },
   "file_extension": ".py",
   "mimetype": "text/x-python",
   "name": "python",
   "nbconvert_exporter": "python",
   "pygments_lexer": "ipython3",
   "version": "3.7.3"
  }
 },
 "nbformat": 4,
 "nbformat_minor": 2
}
